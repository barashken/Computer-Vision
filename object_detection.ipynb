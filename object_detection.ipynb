{
  "nbformat": 4,
  "nbformat_minor": 0,
  "metadata": {
    "colab": {
      "provenance": [],
      "include_colab_link": true
    },
    "kernelspec": {
      "name": "python3",
      "display_name": "Python 3"
    },
    "language_info": {
      "name": "python"
    },
    "accelerator": "GPU",
    "gpuClass": "premium"
  },
  "cells": [
    {
      "cell_type": "markdown",
      "metadata": {
        "id": "view-in-github",
        "colab_type": "text"
      },
      "source": [
        "<a href=\"https://colab.research.google.com/github/barashken/Computer-Vision/blob/main/object_detection.ipynb\" target=\"_parent\"><img src=\"https://colab.research.google.com/assets/colab-badge.svg\" alt=\"Open In Colab\"/></a>"
      ]
    },
    {
      "cell_type": "code",
      "execution_count": null,
      "metadata": {
        "id": "IJuGSoTS4MT-"
      },
      "outputs": [],
      "source": [
        "!nvidia -smi"
      ]
    },
    {
      "cell_type": "markdown",
      "source": [
        "> Mount google drive\n",
        "\n"
      ],
      "metadata": {
        "id": "hZmUbLPa_Lm6"
      }
    },
    {
      "cell_type": "code",
      "source": [
        "from google.colab import drive\n",
        "drive.mount('/content/gdrive')"
      ],
      "metadata": {
        "id": "KYTKBPCt4roG"
      },
      "execution_count": null,
      "outputs": []
    },
    {
      "cell_type": "markdown",
      "source": [
        "\n",
        "\n",
        "> Unzip dataset file that was saved in drive and was downlodad from roboflow dataset"
      ],
      "metadata": {
        "id": "3fFFCV5S_iNp"
      }
    },
    {
      "cell_type": "code",
      "source": [
        "!unzip \"/content/gdrive/MyDrive/proj3/zip/images.zip\" -d \"/content/gdrive/MyDrive/proj3\" "
      ],
      "metadata": {
        "id": "AZ3qpMOC4rq2"
      },
      "execution_count": null,
      "outputs": []
    },
    {
      "cell_type": "code",
      "source": [
        "%cd train"
      ],
      "metadata": {
        "id": "2_TNIF2q4rtK"
      },
      "execution_count": null,
      "outputs": []
    },
    {
      "cell_type": "code",
      "source": [
        "%cd images"
      ],
      "metadata": {
        "id": "RH7opPXm4r5i"
      },
      "execution_count": null,
      "outputs": []
    },
    {
      "cell_type": "code",
      "source": [
        "import os\n",
        "import torch\n",
        "from IPython.display import Image, clear_output \n",
        "print('PyTorch %s %s' % (torch.__version__, torch.cuda.get_device_properties(0) if torch.cuda.is_available() else 'CPU'))"
      ],
      "metadata": {
        "id": "x-CUOB8v_RqE"
      },
      "execution_count": null,
      "outputs": []
    },
    {
      "cell_type": "markdown",
      "source": [
        "\n",
        "> Create Ultralytics specific text file of training images"
      ],
      "metadata": {
        "id": "duwN4DXi_pYs"
      }
    },
    {
      "cell_type": "code",
      "source": [
        "file = open(\"train.txt\", \"w\") \n",
        "for root, dirs, files in os.walk(\".\"):\n",
        "    for filename in files:\n",
        "      # print(\"../train/images/\" + filename)\n",
        "      if filename == \"train.txt\":\n",
        "        pass\n",
        "      else:\n",
        "        file.write(\"../train/images/\" + filename + \"\\n\")\n",
        "file.close()"
      ],
      "metadata": {
        "id": "xLJAgcPc_Hew"
      },
      "execution_count": null,
      "outputs": []
    },
    {
      "cell_type": "markdown",
      "source": [
        "\n",
        "\n",
        "> Creating train txt file\n",
        "\n"
      ],
      "metadata": {
        "id": "wNwC88ne_zLT"
      }
    },
    {
      "cell_type": "code",
      "source": [
        "%cat train.txt "
      ],
      "metadata": {
        "id": "YfOBOncj_Idm"
      },
      "execution_count": null,
      "outputs": []
    },
    {
      "cell_type": "code",
      "source": [
        "%cd ../../test"
      ],
      "metadata": {
        "id": "s1nGh_iP_IZq"
      },
      "execution_count": null,
      "outputs": []
    },
    {
      "cell_type": "code",
      "source": [
        "%cd images"
      ],
      "metadata": {
        "id": "G5P0i89f_0J6"
      },
      "execution_count": null,
      "outputs": []
    },
    {
      "cell_type": "markdown",
      "source": [
        "\n",
        "\n",
        "> Create Ultralytics specific text file of testing images\n",
        "\n"
      ],
      "metadata": {
        "id": "2VgW_2RO_5rS"
      }
    },
    {
      "cell_type": "code",
      "source": [
        "file = open(\"test.txt\", \"w\") \n",
        "for root, dirs, files in os.walk(\".\"):\n",
        "    for filename in files:\n",
        "      # print(\"../test/images/\" + filename)\n",
        "      if filename == \"test.txt\":\n",
        "        pass\n",
        "      else:\n",
        "        file.write(\"../test/images/\" + filename + \"\\n\")\n",
        "file.close()"
      ],
      "metadata": {
        "id": "Ftx5OovD_0HA"
      },
      "execution_count": null,
      "outputs": []
    },
    {
      "cell_type": "code",
      "source": [
        "%cat test.txt"
      ],
      "metadata": {
        "id": "2Ih9oP8d_0Ef"
      },
      "execution_count": null,
      "outputs": []
    },
    {
      "cell_type": "code",
      "source": [
        "%cd ../../valid"
      ],
      "metadata": {
        "id": "0IwcHMIQ_0Bk"
      },
      "execution_count": null,
      "outputs": []
    },
    {
      "cell_type": "code",
      "source": [
        "%cd images"
      ],
      "metadata": {
        "id": "tLwT-HJN_z52"
      },
      "execution_count": null,
      "outputs": []
    },
    {
      "cell_type": "markdown",
      "source": [
        "\n",
        "\n",
        "> Create Ultralytics specific text file of validation images"
      ],
      "metadata": {
        "id": "ZQy9RjT-ALBr"
      }
    },
    {
      "cell_type": "code",
      "source": [
        "file = open(\"valid.txt\", \"w\") \n",
        "for root, dirs, files in os.walk(\".\"):\n",
        "    for filename in files:\n",
        "      # print(\"../test/images/\" + filename)\n",
        "      if filename == \"valid.txt\":\n",
        "        pass\n",
        "      else:\n",
        "        file.write(\"../valid/images/\" + filename + \"\\n\")\n",
        "file.close()"
      ],
      "metadata": {
        "id": "o6KTZCwW_z3K"
      },
      "execution_count": null,
      "outputs": []
    },
    {
      "cell_type": "markdown",
      "source": [
        "\n",
        "\n",
        "> Creating valid.txt file\n"
      ],
      "metadata": {
        "id": "MVFLKemMAStd"
      }
    },
    {
      "cell_type": "code",
      "source": [
        "%cat valid.txt "
      ],
      "metadata": {
        "id": "mM-M0QRZ_z0f"
      },
      "execution_count": null,
      "outputs": []
    },
    {
      "cell_type": "code",
      "source": [
        "%cd /content/gdrive/MyDrive/proj3"
      ],
      "metadata": {
        "id": "-dm88lrBEbkW"
      },
      "execution_count": null,
      "outputs": []
    },
    {
      "cell_type": "markdown",
      "source": [
        "\n",
        "\n",
        "> Getting darknet"
      ],
      "metadata": {
        "id": "bAiAXmV-AWeK"
      }
    },
    {
      "cell_type": "code",
      "source": [
        "!git clone https://github.com/AlexeyAB/darknet "
      ],
      "metadata": {
        "id": "HijVd1rgCvWh"
      },
      "execution_count": null,
      "outputs": []
    },
    {
      "cell_type": "code",
      "source": [
        "%cd proj3"
      ],
      "metadata": {
        "id": "eB2uQKjDCvT8"
      },
      "execution_count": null,
      "outputs": []
    },
    {
      "cell_type": "code",
      "source": [
        "%cd darknet"
      ],
      "metadata": {
        "id": "sayF0S11FsC2"
      },
      "execution_count": null,
      "outputs": []
    },
    {
      "cell_type": "code",
      "source": [
        "!sed -i 's/OPENCV=0/OPENCV=1/' Makefile\n",
        "!sed -i 's/GPU=0/GPU=1/' Makefile\n",
        "!sed -i 's/CUDNN=0/CUDNN=1/' Makefile\n",
        "!sed -i 's/CUDNN_HALF=0/CUDNN_HALF=1/' Makefile\n",
        "\n"
      ],
      "metadata": {
        "id": "BN4MtcSZFrzX"
      },
      "execution_count": null,
      "outputs": []
    },
    {
      "cell_type": "code",
      "source": [
        "\"/content/gdrive/MyDrive/proj3/darknet/Makefile\""
      ],
      "metadata": {
        "id": "IkVP1bEQF7x8"
      },
      "execution_count": null,
      "outputs": []
    },
    {
      "cell_type": "code",
      "source": [
        "!make"
      ],
      "metadata": {
        "id": "AkT3oiVrCvRK"
      },
      "execution_count": null,
      "outputs": []
    },
    {
      "cell_type": "code",
      "source": [
        "%pwd"
      ],
      "metadata": {
        "id": "WvGTixXGCvOT"
      },
      "execution_count": null,
      "outputs": []
    },
    {
      "cell_type": "code",
      "source": [
        "%cd .."
      ],
      "metadata": {
        "id": "5VwCvsGRInNz"
      },
      "execution_count": null,
      "outputs": []
    },
    {
      "cell_type": "markdown",
      "source": [
        "\n",
        "\n",
        "> Downlodaing untraind weight for yolov3\n",
        "\n"
      ],
      "metadata": {
        "id": "q25QaFuYAwJD"
      }
    },
    {
      "cell_type": "code",
      "source": [
        "!wget https://pjreddie.com/media/files/darknet53.conv.74 "
      ],
      "metadata": {
        "id": "XG9zh5quInGb"
      },
      "execution_count": null,
      "outputs": []
    },
    {
      "cell_type": "markdown",
      "source": [
        "\n",
        "\n",
        "> Trainnig network"
      ],
      "metadata": {
        "id": "2XBis6kNAzIu"
      }
    },
    {
      "cell_type": "code",
      "source": [
        "! ./darknet/darknet detector train /content/gdrive/MyDrive/proj3/detector.data /content/gdrive/MyDrive/proj3/cfg/yolov3-custom.cfg darknet53.conv.74 -dont_show "
      ],
      "metadata": {
        "id": "RhdfNPUWCvME"
      },
      "execution_count": null,
      "outputs": []
    },
    {
      "cell_type": "code",
      "source": [
        "%cd darknet"
      ],
      "metadata": {
        "id": "64v2KUUeZsjX"
      },
      "execution_count": null,
      "outputs": []
    },
    {
      "cell_type": "markdown",
      "source": [
        "\n",
        "\n",
        "> Checking weights"
      ],
      "metadata": {
        "id": "Dl5yv4WBA483"
      }
    },
    {
      "cell_type": "code",
      "source": [
        "! ./darknet detector map /content/gdrive/MyDrive/proj3/detector.data /content/gdrive/MyDrive/proj3/cfg/yolov3-custom.cfg /content/gdrive/MyDrive/proj3/backup/yolov3-custom_final.weights "
      ],
      "metadata": {
        "id": "P4gkDgwRa3VP"
      },
      "execution_count": null,
      "outputs": []
    },
    {
      "cell_type": "markdown",
      "source": [
        "\n",
        "\n",
        "> Creating output video"
      ],
      "metadata": {
        "id": "kvUEHJ-DBBYt"
      }
    },
    {
      "cell_type": "code",
      "source": [
        "!./darknet detector demo /content/gdrive/MyDrive/proj3/detector.data /content/gdrive/MyDrive/proj3/cfg/yolov3-custom.cfg /content/gdrive/MyDrive/proj3/backup/yolov3-custom_final.weights -dont_show input.mp4 -i 0 -out_filename output.avi -thresh 0.7 "
      ],
      "metadata": {
        "id": "p_sxzrtd-fH7"
      },
      "execution_count": null,
      "outputs": []
    }
  ]
}